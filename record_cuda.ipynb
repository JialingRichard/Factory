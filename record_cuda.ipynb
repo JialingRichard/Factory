{
 "cells": [
  {
   "cell_type": "code",
   "execution_count": 2,
   "id": "5f0e873d",
   "metadata": {},
   "outputs": [
    {
     "name": "stdout",
     "output_type": "stream",
     "text": [
      "Using device: NVIDIA GeForce RTX 3060\n",
      "Allocated Memory: 0.00 MB, Reserved Memory: 0.00 MB\n",
      "Allocated Memory: 0.00 MB, Reserved Memory: 0.00 MB\n",
      "Allocated Memory: 0.00 MB, Reserved Memory: 0.00 MB\n",
      "Allocated Memory: 0.00 MB, Reserved Memory: 0.00 MB\n",
      "Allocated Memory: 0.00 MB, Reserved Memory: 0.00 MB\n",
      "Allocated Memory: 0.00 MB, Reserved Memory: 0.00 MB\n",
      "Allocated Memory: 0.00 MB, Reserved Memory: 0.00 MB\n",
      "Allocated Memory: 0.00 MB, Reserved Memory: 0.00 MB\n",
      "Allocated Memory: 0.00 MB, Reserved Memory: 0.00 MB\n",
      "Allocated Memory: 0.00 MB, Reserved Memory: 0.00 MB\n",
      "Allocated Memory: 0.00 MB, Reserved Memory: 0.00 MB\n",
      "Allocated Memory: 0.00 MB, Reserved Memory: 0.00 MB\n",
      "Allocated Memory: 0.00 MB, Reserved Memory: 0.00 MB\n",
      "Allocated Memory: 0.00 MB, Reserved Memory: 0.00 MB\n",
      "Allocated Memory: 0.00 MB, Reserved Memory: 0.00 MB\n",
      "Allocated Memory: 0.00 MB, Reserved Memory: 0.00 MB\n",
      "Allocated Memory: 0.00 MB, Reserved Memory: 0.00 MB\n",
      "Stopped monitoring.\n"
     ]
    }
   ],
   "source": [
    "import torch\n",
    "import time\n",
    "\n",
    "if not torch.cuda.is_available():\n",
    "    print(\"CUDA is not available. Please check your environment.\")\n",
    "else:\n",
    "    device = torch.device(\"cuda\")\n",
    "    print(f\"Using device: {torch.cuda.get_device_name(device)}\")\n",
    "\n",
    "    try:\n",
    "        while True:\n",
    "            torch.cuda.synchronize(device)\n",
    "            allocated = torch.cuda.memory_allocated(device) / 1024**2\n",
    "            reserved = torch.cuda.memory_reserved(device) / 1024**2\n",
    "            print(f\"Allocated Memory: {allocated:.2f} MB, Reserved Memory: {reserved:.2f} MB\")\n",
    "            time.sleep(1)\n",
    "    except KeyboardInterrupt:\n",
    "        print(\"Stopped monitoring.\")\n"
   ]
  },
  {
   "cell_type": "code",
   "execution_count": null,
   "id": "45103b5e",
   "metadata": {},
   "outputs": [],
   "source": []
  }
 ],
 "metadata": {
  "kernelspec": {
   "display_name": ".venv",
   "language": "python",
   "name": "python3"
  },
  "language_info": {
   "codemirror_mode": {
    "name": "ipython",
    "version": 3
   },
   "file_extension": ".py",
   "mimetype": "text/x-python",
   "name": "python",
   "nbconvert_exporter": "python",
   "pygments_lexer": "ipython3",
   "version": "3.13.3"
  }
 },
 "nbformat": 4,
 "nbformat_minor": 5
}
