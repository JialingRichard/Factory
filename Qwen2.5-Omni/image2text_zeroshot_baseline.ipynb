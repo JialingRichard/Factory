{
 "cells": [
  {
   "cell_type": "code",
   "execution_count": 1,
   "id": "5459b701",
   "metadata": {},
   "outputs": [
    {
     "name": "stderr",
     "output_type": "stream",
     "text": [
      "Unrecognized keys in `rope_scaling` for 'rope_type'='default': {'mrope_section'}\n",
      "You are attempting to use Flash Attention 2.0 without specifying a torch dtype. This might lead to unexpected behaviour\n",
      "Qwen2_5OmniToken2WavModel must inference with fp32, but flash_attention_2 only supports fp16 and bf16, attention implementation of Qwen2_5OmniToken2WavModel will fallback to sdpa.\n"
     ]
    },
    {
     "data": {
      "application/vnd.jupyter.widget-view+json": {
       "model_id": "ed47d46094e6448a8dd2118412a6c343",
       "version_major": 2,
       "version_minor": 0
      },
      "text/plain": [
       "Loading checkpoint shards:   0%|          | 0/3 [00:00<?, ?it/s]"
      ]
     },
     "metadata": {},
     "output_type": "display_data"
    },
    {
     "name": "stderr",
     "output_type": "stream",
     "text": [
      "You have video processor config saved in `preprocessor.json` file which is deprecated. Video processor configs should be saved in their own `video_preprocessor.json` file. You can rename the file or load and save the processor back which renames it automatically. Loading from `preprocessor.json` will be removed in v5.0.\n"
     ]
    }
   ],
   "source": [
    "from transformers import Qwen2_5OmniForConditionalGeneration, Qwen2_5OmniProcessor\n",
    "from qwen_omni_utils import process_mm_info\n",
    "import torch\n",
    "import soundfile as sf\n",
    "import os\n",
    "import matplotlib.pyplot as plt\n",
    "from PIL import Image\n",
    "\n",
    "# --- 强制显示 Hugging Face Hub 下载进度条 ---\n",
    "# os.environ[\"HF_HUB_ENABLE_HF_TRANSFER\"] = \"1\" # 启用并行下载器，通常更快\n",
    "# os.environ[\"HF_HUB_PROGRESS\"] = \"1\"         # 强制显示进度条\n",
    "\n",
    "# 加载模型和处理器\n",
    "model = Qwen2_5OmniForConditionalGeneration.from_pretrained(\n",
    "    \"Qwen/Qwen2.5-Omni-3B\",\n",
    "    torch_dtype=\"auto\",\n",
    "    device_map=\"cuda\",\n",
    "    attn_implementation=\"flash_attention_2\",  # 使用 Flash Attention 2\n",
    ")\n",
    "model.disable_talker()\n",
    "processor = Qwen2_5OmniProcessor.from_pretrained(\"Qwen/Qwen2.5-Omni-3B\")\n",
    "\n",
    "# img_path = \"../img/BlueUp1.jpg\"\n",
    "# image = Image.open(img_path).convert(\"RGB\")\n",
    "# image = image.resize((224, 224))  # 或者 (384, 384)\n",
    "# image.save(\"resized.jpg\")\n",
    "\n",
    "# conversation = [\n",
    "#     {\n",
    "#         \"role\": \"system\",\n",
    "#         \"content\": [{\"type\": \"text\", \"text\": \"You are a helpful assistant that can understand images and answer questions.\"}],\n",
    "#     },\n",
    "#     {\n",
    "#         \"role\": \"user\",\n",
    "#        \n",
    "# \"content\": [\n",
    "#             {\"type\": \"image\", \"image\": \"resized.jpg\"},\n",
    "#             {\"type\": \"text\", \"text\": \"Descirbe objects and their relative locations in details: \"}\n",
    "#         ],\n",
    "#     },\n",
    "# ]\n",
    "\n",
    "\n",
    "# # 如果不涉及音频，设为 False\n",
    "# USE_AUDIO_IN_VIDEO = False\n",
    "\n",
    "# # 准备推理输入\n",
    "# text = processor.apply_chat_template(conversation, add_generation_prompt=True, tokenize=False)\n",
    "# audios, images, videos = process_mm_info(conversation, use_audio_in_video=USE_AUDIO_IN_VIDEO)\n",
    "# inputs = processor(\n",
    "#     text=text,\n",
    "#     audio=audios,\n",
    "#     images=images,\n",
    "#     videos=videos,\n",
    "#     return_tensors=\"pt\",\n",
    "#     padding=True,\n",
    "#     use_audio_in_video=USE_AUDIO_IN_VIDEO,\n",
    "# )\n",
    "# inputs = inputs.to(model.device).to(model.dtype)\n",
    "\n",
    "# # 推理（仅生成文字，无需语音时可不保存 audio）\n",
    "# # text_ids, _ = model.generate(**inputs, use_audio_in_video=USE_AUDIO_IN_VIDEO)\n",
    "\n",
    "# text_ids = model.generate(\n",
    "#     **inputs,\n",
    "#     use_audio_in_video=False,           # 不启用音频\n",
    "#     return_audio=False, # 不返回音频\n",
    "#     max_new_tokens=20,                  # 限制输出长度\n",
    "#     do_sample=True,                     # 采样生成（非贪心）\n",
    "#     temperature=0.7,                    # 控制多样性\n",
    "#     top_p=0.9,                          # nucleus sampling\n",
    "#     repetition_penalty=1.1             # 减少重复输出\n",
    "# )\n",
    "\n",
    "\n",
    "# output_text = processor.batch_decode(text_ids, skip_special_tokens=True, clean_up_tokenization_spaces=False)[0]\n",
    "# print(output_text)\n"
   ]
  },
  {
   "cell_type": "code",
   "execution_count": 2,
   "id": "6a31f8e6",
   "metadata": {},
   "outputs": [
    {
     "name": "stderr",
     "output_type": "stream",
     "text": [
      "WARNING:root:System prompt modified, audio output may not work as expected. Audio output mode only works when using default system prompt 'You are Qwen, a virtual human developed by the Qwen Team, Alibaba Group, capable of perceiving auditory and visual inputs, as well as generating text and speech.'\n"
     ]
    },
    {
     "data": {
      "text/plain": [
       "'A blue robot is next to a red block.'"
      ]
     },
     "execution_count": 2,
     "metadata": {},
     "output_type": "execute_result"
    }
   ],
   "source": [
    "def inference_img(img_path, \n",
    "                system_prompt=\"You are a helpful assistant that can understand images and answer questions.\", \n",
    "                user_prompt=\"Describe objects and their relative locations in details: \",\n",
    "                resize_location=\"resized.jpg\",\n",
    "                resieze_size=(224, 224)):\n",
    "    img_path = img_path\n",
    "    image = Image.open(img_path).convert(\"RGB\")\n",
    "    image = image.resize(resieze_size) \n",
    "    image.save(resize_location)\n",
    "    \n",
    "    # plot resized image\n",
    "    # plt.imshow(image)\n",
    "    # plt.axis('off')  # 去掉坐标轴\n",
    "    # plt.title(\"Resized Image\")\n",
    "    # plt.show()\n",
    "    \n",
    "    conversation = [\n",
    "        {\n",
    "            \"role\": \"system\",\n",
    "            \"content\": [{\"type\": \"text\", \"text\": system_prompt}],\n",
    "        },\n",
    "        {\n",
    "            \"role\": \"user\",\n",
    "            \"content\": [\n",
    "                {\"type\": \"image\", \"image\": resize_location},\n",
    "                {\"type\": \"text\", \"text\": user_prompt}\n",
    "            ],\n",
    "        },\n",
    "    ]\n",
    "\n",
    "    if_return_audio = False  # 如果不涉及音频，设为 False\n",
    "    # 准备推理输入\n",
    "    text = processor.apply_chat_template(conversation, add_generation_prompt=True, tokenize=False)\n",
    "    audios, images, videos = process_mm_info(conversation, use_audio_in_video=if_return_audio)\n",
    "    # print(f\"audios: {audios}, images: {images}, videos: {videos}\")\n",
    "    inputs = processor(\n",
    "        text=text,\n",
    "        audio=audios,\n",
    "        images=images,\n",
    "        videos=videos,\n",
    "        return_tensors=\"pt\",\n",
    "        padding=True,\n",
    "        use_audio_in_video=if_return_audio,\n",
    "    )\n",
    "    inputs = inputs.to(model.device).to(model.dtype)\n",
    "\n",
    "    text_ids = model.generate(\n",
    "        **inputs,\n",
    "        use_audio_in_video=if_return_audio,           # 不启用音频\n",
    "        return_audio=False,                 # 不返回音频\n",
    "        # max_new_tokens=50,                # 限制输出长度\n",
    "        # max_length=10, \n",
    "        do_sample=True,                     # 采样生成（非贪心）\n",
    "        temperature=0.5,                    # 控制多样性\n",
    "        top_p=0.9,                          # nucleus sampling\n",
    "        repetition_penalty=1.1              # 减少重复输出\n",
    "    )\n",
    "\n",
    "    # print(model.generation_config)\n",
    "    text_ids = text_ids[:, inputs[\"input_ids\"].shape[1]:]  # 截取生成的部分\n",
    "    output_text = processor.batch_decode(text_ids, skip_special_tokens=True, clean_up_tokenization_spaces=False)[0]\n",
    "    # print(output_text)\n",
    "    return output_text\n",
    "\n",
    "user_prompt = \"\"\"Describe object(s) and (possible) their relative locations in brief with 1 very short sentence:\n",
    "                DO NOT describe background/surface: \n",
    "                for example: \n",
    "                A red phone is under a wood mouse. ; \n",
    "                Only one red cup. ; \n",
    "                The image contains no visible objects\"\"\" \n",
    "\n",
    "\n",
    "inference_img(img_path=\"../img/img1.jpg\", user_prompt=user_prompt)"
   ]
  },
  {
   "cell_type": "code",
   "execution_count": 3,
   "id": "4cc550cb",
   "metadata": {},
   "outputs": [
    {
     "name": "stderr",
     "output_type": "stream",
     "text": [
      "WARNING:root:System prompt modified, audio output may not work as expected. Audio output mode only works when using default system prompt 'You are Qwen, a virtual human developed by the Qwen Team, Alibaba Group, capable of perceiving auditory and visual inputs, as well as generating text and speech.'\n"
     ]
    },
    {
     "data": {
      "text/plain": [
       "'A blue cube is on the floor.'"
      ]
     },
     "execution_count": 3,
     "metadata": {},
     "output_type": "execute_result"
    }
   ],
   "source": [
    "inference_img(img_path=\"../image_train/blue_0001.jpg\", user_prompt=user_prompt)"
   ]
  },
  {
   "cell_type": "code",
   "execution_count": 4,
   "id": "8c29268a",
   "metadata": {},
   "outputs": [
    {
     "data": {
      "application/vnd.jupyter.widget-view+json": {
       "model_id": "8c6d8871401e4b378572de190eb105b5",
       "version_major": 2,
       "version_minor": 0
      },
      "text/plain": [
       "Processing:   0%|          | 0/1400 [00:00<?, ?it/s]"
      ]
     },
     "metadata": {},
     "output_type": "display_data"
    }
   ],
   "source": [
    "user_prompt = \"\"\"Describe objects' relative locations\"\"\" \n",
    "\n",
    "\n",
    "import json\n",
    "from tqdm.notebook import tqdm\n",
    "import logging\n",
    "# 屏蔽 WARNING 及以下级别的日志（只显示 ERROR 和 CRITICAL）\n",
    "logging.getLogger().setLevel(logging.ERROR)\n",
    "\n",
    "# 输入输出文件路径\n",
    "input_json_file = \"../annotations.jsonl\"      # 你的输入 JSON 文件\n",
    "output_json_file = \"../prediction.jsonl\"  # 输出文件名\n",
    "\n",
    "with open(input_json_file, \"r\", encoding=\"utf-8\") as fin:\n",
    "    total_lines = sum(1 for _ in fin)  # 先统计总行数\n",
    "\n",
    "with open(input_json_file, \"r\", encoding=\"utf-8\") as fin, \\\n",
    "     open(output_json_file, \"w\", encoding=\"utf-8\") as fout:\n",
    "\n",
    "    for line in tqdm(fin, total=total_lines, desc=\"Processing\"):\n",
    "        dataset_dir_prefix = \"../\"\n",
    "        data = json.loads(line.strip())\n",
    "        img_path = dataset_dir_prefix + data[\"image\"]\n",
    "        \n",
    "        target = data[\"text\"]\n",
    "        if target != \"A green cube on top of a blue cube\":\n",
    "            continue\n",
    "\n",
    "        # inference\n",
    "        prediction = inference_img(img_path=img_path, user_prompt=user_prompt)\n",
    "\n",
    "        data[\"prediction\"] = prediction\n",
    "        \n",
    "        fout.write(json.dumps(data, ensure_ascii=False) + \"\\n\")"
   ]
  },
  {
   "cell_type": "code",
   "execution_count": null,
   "id": "ac9997a1",
   "metadata": {},
   "outputs": [],
   "source": []
  }
 ],
 "metadata": {
  "kernelspec": {
   "display_name": "Python_systemdev313",
   "language": "python",
   "name": "dev_venv"
  },
  "language_info": {
   "codemirror_mode": {
    "name": "ipython",
    "version": 3
   },
   "file_extension": ".py",
   "mimetype": "text/x-python",
   "name": "python",
   "nbconvert_exporter": "python",
   "pygments_lexer": "ipython3",
   "version": "3.13.3"
  }
 },
 "nbformat": 4,
 "nbformat_minor": 5
}
