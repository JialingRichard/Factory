{
 "cells": [
  {
   "cell_type": "code",
   "execution_count": 1,
   "id": "b4f78119",
   "metadata": {},
   "outputs": [
    {
     "name": "stdout",
     "output_type": "stream",
     "text": [
      "Package                  Version\n",
      "------------------------ ------------\n",
      "aiohappyeyeballs         2.6.1\n",
      "aiohttp                  3.12.6\n",
      "aiosignal                1.3.2\n",
      "asttokens                3.0.0\n",
      "attrs                    25.3.0\n",
      "certifi                  2025.4.26\n",
      "charset-normalizer       3.4.2\n",
      "comm                     0.2.2\n",
      "contourpy                1.3.2\n",
      "cycler                   0.12.1\n",
      "datasets                 3.6.0\n",
      "debugpy                  1.8.14\n",
      "decorator                5.2.1\n",
      "dill                     0.3.8\n",
      "einops                   0.8.1\n",
      "executing                2.2.0\n",
      "filelock                 3.13.1\n",
      "fonttools                4.58.1\n",
      "frozenlist               1.6.0\n",
      "fsspec                   2024.6.1\n",
      "hf-xet                   1.1.2\n",
      "huggingface-hub          0.32.3\n",
      "idna                     3.10\n",
      "ipykernel                6.29.5\n",
      "ipython                  9.3.0\n",
      "ipython_pygments_lexers  1.1.1\n",
      "ipywidgets               8.1.7\n",
      "jedi                     0.19.2\n",
      "Jinja2                   3.1.4\n",
      "joblib                   1.5.1\n",
      "jupyter_client           8.6.3\n",
      "jupyter_core             5.8.1\n",
      "jupyterlab_widgets       3.0.15\n",
      "kiwisolver               1.4.8\n",
      "mantis-tsfm              0.1.0\n",
      "MarkupSafe               3.0.2\n",
      "matplotlib               3.10.3\n",
      "matplotlib-inline        0.1.7\n",
      "mpmath                   1.3.0\n",
      "multidict                6.4.4\n",
      "multiprocess             0.70.16\n",
      "nest-asyncio             1.6.0\n",
      "networkx                 3.3\n",
      "numpy                    2.1.2\n",
      "nvidia-cublas-cu12       12.8.3.14\n",
      "nvidia-cuda-cupti-cu12   12.8.57\n",
      "nvidia-cuda-nvrtc-cu12   12.8.61\n",
      "nvidia-cuda-runtime-cu12 12.8.57\n",
      "nvidia-cudnn-cu12        9.7.1.26\n",
      "nvidia-cufft-cu12        11.3.3.41\n",
      "nvidia-cufile-cu12       1.13.0.11\n",
      "nvidia-curand-cu12       10.3.9.55\n",
      "nvidia-cusolver-cu12     11.7.2.55\n",
      "nvidia-cusparse-cu12     12.5.7.53\n",
      "nvidia-cusparselt-cu12   0.6.3\n",
      "nvidia-nccl-cu12         2.26.2\n",
      "nvidia-nvjitlink-cu12    12.8.61\n",
      "nvidia-nvtx-cu12         12.8.55\n",
      "packaging                25.0\n",
      "pandas                   2.2.3\n",
      "parso                    0.8.4\n",
      "pexpect                  4.9.0\n",
      "pillow                   11.0.0\n",
      "pip                      25.0\n",
      "platformdirs             4.3.8\n",
      "prompt_toolkit           3.0.51\n",
      "propcache                0.3.1\n",
      "psutil                   7.0.0\n",
      "ptyprocess               0.7.0\n",
      "pure_eval                0.2.3\n",
      "pyarrow                  20.0.0\n",
      "Pygments                 2.19.1\n",
      "pyparsing                3.2.3\n",
      "python-dateutil          2.9.0.post0\n",
      "pytz                     2025.2\n",
      "PyYAML                   6.0.2\n",
      "pyzmq                    26.4.0\n",
      "regex                    2024.11.6\n",
      "requests                 2.32.3\n",
      "safetensors              0.4.5\n",
      "scikit-learn             1.6.1\n",
      "scipy                    1.15.3\n",
      "seaborn                  0.13.2\n",
      "setuptools               70.2.0\n",
      "six                      1.17.0\n",
      "stack-data               0.6.3\n",
      "sympy                    1.13.3\n",
      "threadpoolctl            3.6.0\n",
      "tokenizers               0.21.1\n",
      "torch                    2.7.0+cu128\n",
      "torchaudio               2.7.0+cu128\n",
      "torchvision              0.22.0+cu128\n",
      "tornado                  6.5.1\n",
      "tqdm                     4.67.1\n",
      "traitlets                5.14.3\n",
      "transformers             4.52.4\n",
      "triton                   3.3.0\n",
      "typing_extensions        4.12.2\n",
      "tzdata                   2025.2\n",
      "urllib3                  2.4.0\n",
      "wcwidth                  0.2.13\n",
      "widgetsnbextension       4.0.14\n",
      "xxhash                   3.5.0\n",
      "yarl                     1.20.0\n"
     ]
    }
   ],
   "source": [
    "!pip list   "
   ]
  },
  {
   "cell_type": "code",
   "execution_count": null,
   "id": "d446b778",
   "metadata": {},
   "outputs": [
    {
     "data": {
      "application/vnd.jupyter.widget-view+json": {
       "model_id": "145d7600324f4c3db93447e6662f0048",
       "version_major": 2,
       "version_minor": 0
      },
      "text/plain": [
       "tokenizer_config.json:   0%|          | 0.00/48.0 [00:00<?, ?B/s]"
      ]
     },
     "metadata": {},
     "output_type": "display_data"
    },
    {
     "data": {
      "application/vnd.jupyter.widget-view+json": {
       "model_id": "194821aa58cc4f09ad899d4a8c1ff9c6",
       "version_major": 2,
       "version_minor": 0
      },
      "text/plain": [
       "vocab.txt:   0%|          | 0.00/232k [00:00<?, ?B/s]"
      ]
     },
     "metadata": {},
     "output_type": "display_data"
    },
    {
     "data": {
      "application/vnd.jupyter.widget-view+json": {
       "model_id": "ddd2e7a0f5804439b570a738e61b4d56",
       "version_major": 2,
       "version_minor": 0
      },
      "text/plain": [
       "tokenizer.json:   0%|          | 0.00/466k [00:00<?, ?B/s]"
      ]
     },
     "metadata": {},
     "output_type": "display_data"
    },
    {
     "data": {
      "application/vnd.jupyter.widget-view+json": {
       "model_id": "a7ea5c79a8264466a8d94fa564f883ae",
       "version_major": 2,
       "version_minor": 0
      },
      "text/plain": [
       "config.json:   0%|          | 0.00/571 [00:00<?, ?B/s]"
      ]
     },
     "metadata": {},
     "output_type": "display_data"
    },
    {
     "data": {
      "application/vnd.jupyter.widget-view+json": {
       "model_id": "854e8b4c5ba9459499000b4afb3528e7",
       "version_major": 2,
       "version_minor": 0
      },
      "text/plain": [
       "model.safetensors:   0%|          | 0.00/1.34G [00:00<?, ?B/s]"
      ]
     },
     "metadata": {},
     "output_type": "display_data"
    }
   ],
   "source": [
    "from transformers import BertModel, BertTokenizer\n",
    "\n",
    "model_name = \"bert-large-uncased\"\n",
    "\n",
    "# 下载并缓存Tokenizer\n",
    "tokenizer = BertTokenizer.from_pretrained(model_name)\n",
    "\n",
    "# 下载并缓存模型\n",
    "model = BertModel.from_pretrained(model_name)\n",
    "\n",
    "print(f\"{model_name} 下载完成。\")\n"
   ]
  },
  {
   "cell_type": "code",
   "execution_count": null,
   "id": "5dfb92ac",
   "metadata": {},
   "outputs": [],
   "source": []
  }
 ],
 "metadata": {
  "kernelspec": {
   "display_name": ".venv",
   "language": "python",
   "name": "python3"
  },
  "language_info": {
   "codemirror_mode": {
    "name": "ipython",
    "version": 3
   },
   "file_extension": ".py",
   "mimetype": "text/x-python",
   "name": "python",
   "nbconvert_exporter": "python",
   "pygments_lexer": "ipython3",
   "version": "3.13.3"
  }
 },
 "nbformat": 4,
 "nbformat_minor": 5
}
